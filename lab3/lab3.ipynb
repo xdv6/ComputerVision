{
 "cells": [
  {
   "attachments": {},
   "cell_type": "markdown",
   "metadata": {},
   "source": [
    "### Lab3"
   ]
  },
  {
   "cell_type": "code",
   "execution_count": 1,
   "metadata": {},
   "outputs": [],
   "source": [
    "import cv2 as cv\n",
    "import numpy as np\n",
    "\n",
    "def to_screen(name, file):\n",
    "    cv.imshow(name, file)  \n",
    "    cv.waitKey(0)\n",
    "    cv.destroyAllWindows()  "
   ]
  },
  {
   "attachments": {},
   "cell_type": "markdown",
   "metadata": {},
   "source": [
    "### exercise 1"
   ]
  },
  {
   "cell_type": "code",
   "execution_count": 2,
   "metadata": {},
   "outputs": [],
   "source": [
    "cx = 960\n",
    "cy = 540\n",
    "f = 960\n",
    "# f = 1920\n",
    "\n",
    "matrix = np.array([[f, 0, cx], [0, f, cy], [0, 0, 1]])"
   ]
  },
  {
   "attachments": {},
   "cell_type": "markdown",
   "metadata": {},
   "source": [
    "### assignment 1"
   ]
  },
  {
   "cell_type": "code",
   "execution_count": 3,
   "metadata": {},
   "outputs": [],
   "source": [
    "vertices = np.array([[0., 0., 0.],\n",
    "       [0., 0., 1.],\n",
    "       [0., 1., 0.],\n",
    "       [0., 1., 1.],\n",
    "       [1., 0., 0.],\n",
    "       [1., 0., 1.],\n",
    "       [1., 1., 0.],\n",
    "       [1., 1., 1.]])\n",
    "\n",
    "edges = np.array([[0,2],\n",
    "                  [0,4],\n",
    "                  [0,1],\n",
    "                  [4,5],\n",
    "                  [1,5],\n",
    "                  [2,3],\n",
    "                  [1,3],\n",
    "                  [2,6],\n",
    "                  [4,6],\n",
    "                  [3,7],\n",
    "                  [6,7],\n",
    "                  [5,7],\n",
    "                  ])"
   ]
  },
  {
   "cell_type": "code",
   "execution_count": 4,
   "metadata": {},
   "outputs": [],
   "source": [
    "vertices = np.array([\n",
    "    [0, 0, 0],  # 0\n",
    "    [1, 0, 0],  # 1\n",
    "    [1, 1, 0],  # 2\n",
    "    [0, 1, 0],  # 3\n",
    "    [0, 0, 1],  # 4\n",
    "    [1, 0, 1],  # 5\n",
    "    [1, 1, 1],  # 6\n",
    "    [0, 1, 1]   # 7\n",
    "])\n",
    "\n",
    "vertices[:,2] += 5\n",
    "\n",
    "edges = np.array([    [0, 1], [1, 2], [2, 3], [3, 0],  # bottom square\n",
    "    [4, 5], [5, 6], [6, 7], [7, 4],  # top square\n",
    "    [0, 4], [1, 5], [2, 6], [3, 7]   # vertical edges\n",
    "])\n"
   ]
  },
  {
   "cell_type": "code",
   "execution_count": 5,
   "metadata": {},
   "outputs": [],
   "source": [
    "# homogeneous coordinates of projected vertices\n",
    "homogeneous_coords = vertices @ matrix.T\n",
    "\n",
    "# 2D image coordinates of projected vertices\n",
    "image_coords = homogeneous_coords[:, :2] / homogeneous_coords[:, 2:]\n",
    "image_coords = np.round(image_coords).astype(int)\n",
    "# image_coords"
   ]
  },
  {
   "cell_type": "code",
   "execution_count": 6,
   "metadata": {},
   "outputs": [],
   "source": [
    "import cv2\n",
    "\n",
    "# create empty 1080p image\n",
    "image = np.zeros((1080, 1920, 3), dtype=np.uint8)\n",
    "\n",
    "# draw vertices as green circles\n",
    "for i in range(8):\n",
    "    cv2.circle(image, tuple(image_coords[i]), 10, (0, 255, 0), -1)\n",
    "\n",
    "# draw edges as red lines\n",
    "for i, j in edges:\n",
    "    cv2.line(image, tuple(image_coords[i]), tuple(image_coords[j]), (0, 0, 255), 2)\n",
    "\n",
    "cv2.imshow(\"Cube\", image)\n",
    "cv2.waitKey(0)\n",
    "cv2.destroyAllWindows()"
   ]
  },
  {
   "attachments": {},
   "cell_type": "markdown",
   "metadata": {},
   "source": [
    "### Question 2: what happens if you double the focal length?"
   ]
  },
  {
   "attachments": {},
   "cell_type": "markdown",
   "metadata": {},
   "source": [
    "### Question 3"
   ]
  },
  {
   "attachments": {},
   "cell_type": "markdown",
   "metadata": {},
   "source": [
    "The reason why only even powers of r are included in this polynomial is because of symmetry. The radial distortion model assumes that the distortion is symmetric with respect to the principal point. \n",
    "\n",
    "Therefore, any odd power of r would introduce an asymmetry in the distortion model that does not exist in reality."
   ]
  },
  {
   "attachments": {},
   "cell_type": "markdown",
   "metadata": {},
   "source": [
    "### Assignment 2"
   ]
  },
  {
   "cell_type": "code",
   "execution_count": 7,
   "metadata": {},
   "outputs": [],
   "source": [
    "### source: https://learnopencv.com/camera-calibration-using-opencv/\n",
    "\n",
    "import glob\n",
    "\n",
    "# Define the calibration pattern size\n",
    "pattern_size = (10, 6)\n",
    "\n",
    "# Define the object points in 3D (assumes a flat calibration pattern)\n",
    "objp = np.zeros((pattern_size[0]*pattern_size[1], 3), np.float32)\n",
    "objp[:, :2] = np.mgrid[0:pattern_size[0], 0:pattern_size[1]].T.reshape(-1, 2)\n",
    "\n",
    "# Initialize arrays to store object points and image points from all images\n",
    "objpoints = []\n",
    "imgpoints = []\n",
    "\n",
    "# Loop over calibration images and find chessboard corners\n",
    "calibration_files = glob.glob(\"../calibration_frames/*.png\")\n",
    "\n",
    "for fname in calibration_files:\n",
    "    # Load the image\n",
    "    img = cv2.imread(fname)\n",
    "    gray = cv2.cvtColor(img, cv2.COLOR_BGR2GRAY)\n",
    "\n",
    "    # Find chessboard corners\n",
    "    ret, corners = cv2.findChessboardCorners(gray, pattern_size, None)\n",
    "\n",
    "    # If corners found, add object points and image points to arrays\n",
    "    if ret == True:\n",
    "        objpoints.append(objp)\n",
    "        imgpoints.append(corners)\n",
    "\n",
    "        # Draw corners on image and display\n",
    "        cv2.drawChessboardCorners(img, pattern_size, corners, ret)\n",
    "        cv2.imshow('img', img)\n",
    "        cv2.waitKey(500)\n",
    "\n",
    "cv2.destroyAllWindows()\n",
    "\n",
    "\n"
   ]
  },
  {
   "cell_type": "code",
   "execution_count": 8,
   "metadata": {},
   "outputs": [
    {
     "name": "stdout",
     "output_type": "stream",
     "text": [
      "Intrinsic matrix:\n",
      "[[583.72423649   0.         647.13947331]\n",
      " [  0.         588.20496961 338.38519019]\n",
      " [  0.           0.           1.        ]]\n",
      "Distortion coefficients:\n",
      "[[-2.41188339e-01  6.80055862e-02 -8.82713982e-04 -2.37905310e-05\n",
      "  -9.40313880e-03]]\n"
     ]
    }
   ],
   "source": [
    "# Use the object and image points to estimate camera parameters\n",
    "ret, mtx, dist, rvecs, tvecs = cv2.calibrateCamera(objpoints, imgpoints, gray.shape[::-1], None, None)\n",
    "\n",
    "# Print the camera matrix and distortion coefficients\n",
    "print(\"Intrinsic matrix:\")\n",
    "print(mtx)\n",
    "print(\"Distortion coefficients:\")\n",
    "print(dist)"
   ]
  },
  {
   "attachments": {},
   "cell_type": "markdown",
   "metadata": {},
   "source": [
    "### Assignment 3 "
   ]
  },
  {
   "cell_type": "code",
   "execution_count": 35,
   "metadata": {},
   "outputs": [],
   "source": [
    "from numpy import random\n",
    "objpoints = np.array(objpoints)\n",
    "imgpoints = np.array(imgpoints)\n",
    "\n",
    "ret_arr = []\n",
    "mtx_arr = []\n",
    "dist_arr = []\n",
    "rvecs_arr = []\n",
    "tvecs_arr = []\n",
    "\n",
    "for i in range(10):\n",
    "    x = random.randint(len(objpoints), size=(20))\n",
    "    ret, mtx, dist, rvecs, tvecs = cv.calibrateCamera(objpoints[x], imgpoints[x], gray.shape[::-1], None, None)\n",
    "    ret_arr.append( ret)\n",
    "    mtx_arr.append( mtx)\n",
    "    dist_arr.append(dist)\n",
    "    rvecs_arr.append(rvecs)\n",
    "    tvecs_arr.append(tvecs)"
   ]
  },
  {
   "cell_type": "code",
   "execution_count": 25,
   "metadata": {},
   "outputs": [
    {
     "data": {
      "text/plain": [
       "533.7214764605827"
      ]
     },
     "execution_count": 25,
     "metadata": {},
     "output_type": "execute_result"
    }
   ],
   "source": []
  },
  {
   "cell_type": "code",
   "execution_count": 36,
   "metadata": {},
   "outputs": [
    {
     "name": "stdout",
     "output_type": "stream",
     "text": [
      "39.71708460982649\n",
      "37.80772413831836\n",
      "1028.2624085892985\n",
      "467.45226731212176\n"
     ]
    }
   ],
   "source": [
    "# Extract the parameters cx, cy, f1, and f2 from each camera matrix\n",
    "cx_list = [matrix[0, 2] for matrix in mtx_arr]\n",
    "cy_list = [matrix[1, 2] for matrix in mtx_arr]\n",
    "f1_list = [matrix[0, 0] for matrix in mtx_arr]\n",
    "f2_list = [matrix[1, 1] for matrix in mtx_arr]\n",
    "\n",
    "# Calculate the standard deviation of each parameter\n",
    "cx_std = np.std(cx_list)\n",
    "cy_std = np.std(cy_list)\n",
    "f1_std = np.std(f1_list)\n",
    "f2_std = np.std(f2_list)\n",
    "\n",
    "print(cx_std)\n",
    "print(cy_std)\n",
    "print(f1_std)\n",
    "print(f2_std)\n",
    "\n"
   ]
  },
  {
   "cell_type": "code",
   "execution_count": 49,
   "metadata": {},
   "outputs": [],
   "source": [
    "for i in range(0,len(mtx_arr)):\n",
    "    img = cv.imread('../calibration_frames/img_0005.png')\n",
    "    h,  w = img.shape[:2]\n",
    "    newcameramtx, roi = cv.getOptimalNewCameraMatrix(mtx_arr[i], dist_arr[i], (w,h), 1, (w,h))\n",
    "    # undistort\n",
    "    dst = cv.undistort(img, mtx_arr[i], dist_arr[i], None, newcameramtx)\n",
    "    # crop the image\n",
    "    x, y, w, h = roi\n",
    "    dst = dst[y:y+h, x:x+w]\n",
    "    cv.imwrite(f\"calib{i}result.png\", dst)"
   ]
  },
  {
   "attachments": {},
   "cell_type": "markdown",
   "metadata": {},
   "source": [
    "## Exercise 3"
   ]
  },
  {
   "attachments": {},
   "cell_type": "markdown",
   "metadata": {},
   "source": [
    "### Assignment 5"
   ]
  },
  {
   "cell_type": "code",
   "execution_count": 55,
   "metadata": {},
   "outputs": [
    {
     "name": "stdout",
     "output_type": "stream",
     "text": [
      "float32\n",
      "uint8\n"
     ]
    }
   ],
   "source": [
    "shadow = cv.imread(\"../afbeeldingen/shadow.png\")\n",
    "copy_shadow = shadow.copy()\n",
    "rows, cols = shadow.shape[:2]\n",
    "\n",
    "m = -0.15\n",
    "horizontal_shear_M = np.array([[1, m, 0], [0, 1, 0]], dtype=\"float32\")\n",
    "\n",
    "print(horizontal_shear_M.dtype)\n",
    "\n",
    "# om naar rechts te verschuiven\n",
    "horizontal_shear_M[0, 2] += 260\n",
    "\n",
    "\n",
    "shear_trans = cv.warpAffine(copy_shadow, horizontal_shear_M, (2*cols, rows))\n",
    "\n",
    "print(shear_trans.dtype)\n",
    "to_screen(\"original_shadow\", shadow)\n",
    "to_screen(\"shear_trans\", shear_trans)\n"
   ]
  },
  {
   "attachments": {},
   "cell_type": "markdown",
   "metadata": {},
   "source": [
    "### Assignment 6"
   ]
  },
  {
   "cell_type": "code",
   "execution_count": null,
   "metadata": {},
   "outputs": [],
   "source": []
  }
 ],
 "metadata": {
  "kernelspec": {
   "display_name": "Python 3",
   "language": "python",
   "name": "python3"
  },
  "language_info": {
   "codemirror_mode": {
    "name": "ipython",
    "version": 3
   },
   "file_extension": ".py",
   "mimetype": "text/x-python",
   "name": "python",
   "nbconvert_exporter": "python",
   "pygments_lexer": "ipython3",
   "version": "3.10.6"
  },
  "orig_nbformat": 4
 },
 "nbformat": 4,
 "nbformat_minor": 2
}
