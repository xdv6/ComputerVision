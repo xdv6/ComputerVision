{
 "cells": [
  {
   "cell_type": "code",
   "execution_count": 1,
   "metadata": {},
   "outputs": [],
   "source": [
    "import cv2 as cv\n",
    "import numpy as np"
   ]
  },
  {
   "attachments": {},
   "cell_type": "markdown",
   "metadata": {},
   "source": [
    "### hulpfunctie om scherm te tonen "
   ]
  },
  {
   "cell_type": "code",
   "execution_count": 2,
   "metadata": {},
   "outputs": [],
   "source": [
    "def naar_scherm(name, file):\n",
    "    cv.imshow(name, file)  \n",
    "    cv.waitKey(0)\n",
    "    cv.destroyAllWindows()  "
   ]
  },
  {
   "cell_type": "code",
   "execution_count": 3,
   "metadata": {},
   "outputs": [],
   "source": [
    "# Create a black image\n",
    "img = np.zeros((512,512,3), np.uint8)\n",
    "\n",
    "lijn = img.copy()\n",
    "# Draw a diagonal blue line with thickness of 5 px\n",
    "lijn = cv.line(lijn,(0,0),(511,511),(255,0,0),5)\n",
    "\n",
    "naar_scherm(\"lijn\", lijn)"
   ]
  },
  {
   "cell_type": "code",
   "execution_count": 6,
   "metadata": {},
   "outputs": [],
   "source": [
    "rechthoek = img.copy()\n",
    "# img, startpoint, endpoint, color, thickness\n",
    "rechthoek = cv.rectangle(rechthoek,(0,411),(100,511),(0,255,0),3)\n",
    "naar_scherm(\"rechthoek\",rechthoek)"
   ]
  },
  {
   "attachments": {},
   "cell_type": "markdown",
   "metadata": {},
   "source": [
    "### oefening theorie (45 graden, draaien, linkeronderhoek van coordinaat (0,0) naar coordinaat (7,2) en schalen met 1/2 )"
   ]
  },
  {
   "cell_type": "code",
   "execution_count": 61,
   "metadata": {},
   "outputs": [],
   "source": [
    "# slicing from the beginning to index stop - 1\n",
    "rotatie = rechthoek.copy()\n",
    "\n",
    "cols, rows = rechthoek.shape[:2]\n",
    "\n",
    "angle = 45\n",
    "cost = np.cos(np.deg2rad(angle))\n",
    "sint = np.sin(np.deg2rad(angle))\n",
    "\n",
    "# in linkshandig assenstelsel is teken van sinus omgewisseld\n",
    "rot = np.array([[0.5*cost, 0.5*sint, 0], \n",
    "                [-0.5*sint, 0.5 * cost, 0],\n",
    "                [0, 0, 1]])\n",
    "\n",
    "img_output = cv.warpPerspective(rotatie, rot, (cols,rows))\n",
    "naar_scherm(\"rotatie\", img_output)\n",
    "\n"
   ]
  },
  {
   "attachments": {},
   "cell_type": "markdown",
   "metadata": {},
   "source": [
    "## probleem : \n",
    "https://stackoverflow.com/questions/28141559/rotation-matrix-in-opencv\n",
    "\n",
    "I think the problem is that in a traditional right-handed coordinate system the rotation matrix looks exactly like the one you are using.\n",
    "\n",
    "Whereas in images (and OpenCV works with images) the origin is in the top-left corner, the x-axis goes to the right (as usual), but y-axis goes down rather than up, which means that the coordinate system is left-handed and the rotation matrix is different"
   ]
  },
  {
   "cell_type": "code",
   "execution_count": 46,
   "metadata": {},
   "outputs": [],
   "source": [
    "rotatie_ingebouwde_functie = rechthoek.copy()\n",
    "\n",
    "# eerste coordinaat is draaipunt\n",
    "M = cv.getRotationMatrix2D((0, 0), 45, 1)\n",
    "# print(M)\n",
    "\n",
    "# warpAffine() requires a 2x3 transformation matrix, while warpPerspective() requires a 3x3 transformation matrix\n",
    "img_output_ingebouwd = cv.warpAffine(rotatie_ingebouwde_functie, M, (cols,rows))\n",
    "naar_scherm(\"ingebouwd\", img_output_ingebouwd)"
   ]
  },
  {
   "attachments": {},
   "cell_type": "markdown",
   "metadata": {},
   "source": [
    "## verschuiving \n"
   ]
  },
  {
   "cell_type": "code",
   "execution_count": 59,
   "metadata": {},
   "outputs": [],
   "source": [
    "trans = rechthoek.copy()\n",
    "cols, rows = trans.shape[:2]\n",
    "\n",
    "# gebruik hier float32 anders werkt het niet \n",
    "Ma = np.float32([\n",
    "\t[1/2, 0, 25],\n",
    "\t[0, 1/2, 50]\n",
    "])\n",
    "\n",
    "shifted = cv.warpAffine(trans, Ma, (cols,rows))\n",
    "naar_scherm(\"shifted\", shifted)"
   ]
  }
 ],
 "metadata": {
  "kernelspec": {
   "display_name": "Python 3",
   "language": "python",
   "name": "python3"
  },
  "language_info": {
   "codemirror_mode": {
    "name": "ipython",
    "version": 3
   },
   "file_extension": ".py",
   "mimetype": "text/x-python",
   "name": "python",
   "nbconvert_exporter": "python",
   "pygments_lexer": "ipython3",
   "version": "3.10.6"
  },
  "orig_nbformat": 4,
  "vscode": {
   "interpreter": {
    "hash": "b15ee443de15a7c7a9e59449ab0d06bb25873493c1d52931efe00f2e6ab94104"
   }
  }
 },
 "nbformat": 4,
 "nbformat_minor": 2
}
