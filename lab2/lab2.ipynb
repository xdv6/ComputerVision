{
 "cells": [
  {
   "cell_type": "code",
   "execution_count": 2,
   "metadata": {},
   "outputs": [],
   "source": [
    "import cv2 as cv \n",
    "import numpy as np\n",
    "import seaborn as sns\n",
    "import matplotlib.pylab as plt"
   ]
  },
  {
   "cell_type": "code",
   "execution_count": 2,
   "metadata": {},
   "outputs": [],
   "source": [
    "def to_screen(name, file):\n",
    "    cv.imshow(name, file)  \n",
    "    cv.waitKey(0)\n",
    "    cv.destroyAllWindows()  "
   ]
  },
  {
   "attachments": {},
   "cell_type": "markdown",
   "metadata": {},
   "source": [
    "### Assignment 1\n"
   ]
  },
  {
   "cell_type": "code",
   "execution_count": 74,
   "metadata": {},
   "outputs": [
    {
     "data": {
      "text/plain": [
       "True"
      ]
     },
     "execution_count": 74,
     "metadata": {},
     "output_type": "execute_result"
    }
   ],
   "source": [
    "building = cv.imread(\"../afbeeldingen/building.png\")\n",
    "sobel_building = building.copy()\n",
    "# naar_scherm(\"building\", building)\n",
    "\n",
    "\n",
    "gray = cv.cvtColor(sobel_building, cv.COLOR_BGR2GRAY).astype(\"float32\")\n",
    "\n",
    "scale = 1\n",
    "delta = 0\n",
    "ddepth = cv.CV_32F\n",
    "\n",
    "## horziontal first order derivative\n",
    "grad_x = cv.Sobel(gray, ddepth, 1, 0, ksize=3, scale=scale, delta=delta, borderType=cv.BORDER_DEFAULT)\n",
    "\n",
    "## do not forget to take abs because negative values!\n",
    "abs_grad_x = np.abs(grad_x)\n",
    "clipped = np.clip(abs_grad_x,0,255)\n",
    "grad_uint8 = clipped.astype(\"uint8\")\n",
    "\n",
    "\n",
    "# print(grad_uint8.dtype)\n",
    "to_screen(\"sobel\", grad_uint8)\n",
    "\n",
    "cv.imwrite('./resultaten_lab2/ass1.png', grad_uint8)\n"
   ]
  },
  {
   "attachments": {},
   "cell_type": "markdown",
   "metadata": {},
   "source": [
    "### Assignment 2"
   ]
  },
  {
   "cell_type": "code",
   "execution_count": 10,
   "metadata": {},
   "outputs": [],
   "source": [
    "rays = cv.imread(\"../afbeeldingen/rays.png\")\n",
    "to_screen(\"rays\", rays)"
   ]
  },
  {
   "cell_type": "code",
   "execution_count": null,
   "metadata": {},
   "outputs": [],
   "source": [
    "ksize = 15\n",
    "sigma = 0.3*((ksize-1)*0.5 - 1) + 0.8\n",
    "\n",
    "### step 1\n",
    "\n",
    "# Creates a 1-D Gaussian kernel \n",
    "kernel = cv.getGaussianKernel(ksize, sigma, cv.CV_32F)\n",
    "square = np.zeros((15,15), dtype=\"float32\")\n",
    "square[7,:] = kernel.flatten()\n",
    "ax = sns.heatmap(square)\n",
    "plt.show()\n",
    "\n",
    "### step 2\n",
    "kernel2 = cv.getGaussianKernel(ksize, sigma-1, cv.CV_32F)\n",
    "filter = cv.filter2D(square, -1, kernel2)\n",
    "\n",
    "\n",
    "ax = sns.heatmap(filter)\n",
    "plt.show()\n",
    "\n",
    "### step 3\n",
    "dog = cv.Sobel(filter, ddepth, 0, 1, ksize=3)\n",
    "\n",
    "ax = sns.heatmap(dog)\n",
    "plt.show()\n",
    "\n",
    "### step 4\n",
    "M = cv.getRotationMatrix2D((7, 7), 45, 1)\n",
    "rows,cols = dog.shape\n",
    "img_output_ingebouwd = cv.warpAffine(dog, M, (cols,rows))\n",
    "\n",
    "ax = sns.heatmap(img_output_ingebouwd)\n",
    "plt.savefig('./resultaten_lab2/ass2.png')\n",
    "plt.show()\n"
   ]
  },
  {
   "cell_type": "code",
   "execution_count": 7,
   "metadata": {},
   "outputs": [
    {
     "name": "stdout",
     "output_type": "stream",
     "text": [
      "1.0\n",
      "0.5\n"
     ]
    },
    {
     "data": {
      "text/plain": [
       "True"
      ]
     },
     "execution_count": 7,
     "metadata": {},
     "output_type": "execute_result"
    }
   ],
   "source": [
    "# Tip: to visualize \n",
    "# floating point arrays like the DoG filter, rescale the values to [-0.5, 0.5] and add 0.5 to\n",
    "# them so that black represents negative, gray zero, and white positive values.\n",
    "\n",
    "# Normalised [-1,1]\n",
    "normalised = 2.*(img_output_ingebouwd - np.min(img_output_ingebouwd))/np.ptp(img_output_ingebouwd)-1\n",
    "print(np.amax(normalised))\n",
    "\n",
    "# [-0.5, 0.5]\n",
    "normalised_half  = normalised * 0.5\n",
    "print(np.amax(normalised_half))\n",
    "\n",
    "normalised_added = normalised_half + 0.5\n",
    "\n",
    "to_screen(\"dog_normalised\", normalised_added)\n",
    "cv.imwrite('./resultaten_lab2/ass2.tiff', normalised_added)\n",
    "\n",
    "#.tiff to depict float32, image is very small though, using heatmaps instead.\n"
   ]
  },
  {
   "attachments": {},
   "cell_type": "markdown",
   "metadata": {},
   "source": [
    "### Assignment 3 "
   ]
  },
  {
   "cell_type": "code",
   "execution_count": 14,
   "metadata": {},
   "outputs": [
    {
     "data": {
      "image/png": "[encoded data removed]",
      "text/plain": [
       "<Figure size 640x480 with 2 Axes>"
      ]
     },
     "metadata": {},
     "output_type": "display_data"
    }
   ],
   "source": [
    "# 75 degrees instead of 45 tot get angle of yellow stripes with x-axis,\n",
    "# other steps the same as previous exercise\n",
    "M2 = cv.getRotationMatrix2D((7, 7), 75, 1)\n",
    "yellow_strips_filter = cv.warpAffine(dog, M2, (cols,rows))\n",
    "\n",
    "ax = sns.heatmap(yellow_strips_filter)\n",
    "plt.show()"
   ]
  },
  {
   "cell_type": "code",
   "execution_count": 18,
   "metadata": {},
   "outputs": [
    {
     "data": {
      "text/plain": [
       "True"
      ]
     },
     "execution_count": 18,
     "metadata": {},
     "output_type": "execute_result"
    }
   ],
   "source": [
    "yellow_strips = rays.copy()\n",
    "gray_strips = cv.cvtColor(yellow_strips, cv.COLOR_BGR2GRAY)\n",
    "gray_strips_float = gray_strips.astype(\"float32\")\n",
    "\n",
    "# print(gray_strips_float.dtype)\n",
    "result_yellow_strips = cv.filter2D(gray_strips_float, -1, yellow_strips_filter)\n",
    "abs_strips = np.abs(result_yellow_strips)\n",
    "clipped_strips = np.clip(abs_strips,0,255)\n",
    "\n",
    "strips_uint8 = clipped_strips.astype(\"uint8\")\n",
    "to_screen(\"result_strips\", strips_uint8)\n",
    "cv.imwrite('./resultaten_lab2/ass3.png', strips_uint8)"
   ]
  },
  {
   "attachments": {},
   "cell_type": "markdown",
   "metadata": {},
   "source": [
    "### Assignment 4"
   ]
  },
  {
   "cell_type": "code",
   "execution_count": 70,
   "metadata": {},
   "outputs": [
    {
     "data": {
      "text/plain": [
       "True"
      ]
     },
     "execution_count": 70,
     "metadata": {},
     "output_type": "execute_result"
    }
   ],
   "source": [
    "canny = rays.copy()\n",
    "edges = cv.Canny(canny,100,100)\n",
    "to_screen(\"canny_edges\", edges)\n",
    "cv.imwrite('./resultaten_lab2/ass4.png', edges)"
   ]
  },
  {
   "attachments": {},
   "cell_type": "markdown",
   "metadata": {},
   "source": [
    "### Assignment 5"
   ]
  },
  {
   "cell_type": "code",
   "execution_count": 71,
   "metadata": {},
   "outputs": [],
   "source": [
    "painting4 = cv.imread(\"../afbeeldingen/painting4.jpg\")\n",
    "to_screen(\"painting\", painting4)"
   ]
  },
  {
   "cell_type": "code",
   "execution_count": 72,
   "metadata": {},
   "outputs": [
    {
     "data": {
      "text/plain": [
       "True"
      ]
     },
     "execution_count": 72,
     "metadata": {},
     "output_type": "execute_result"
    }
   ],
   "source": [
    "painting_copy = painting4.copy()\n",
    "\n",
    "# blur painting to lose line of painting\n",
    "blur_painting = cv.blur(painting_copy,(5,5))\n",
    "to_screen(\"canny_edges_paiting\", blur_painting)\n",
    "\n",
    "edges_painting = cv.Canny(blur_painting, 140, 250)\n",
    "to_screen(\"canny_edges_paiting\", edges_painting)\n",
    "cv.imwrite('./resultaten_lab2/ass5.png', edges_painting)"
   ]
  },
  {
   "attachments": {},
   "cell_type": "markdown",
   "metadata": {},
   "source": [
    "### Assignment 6"
   ]
  },
  {
   "cell_type": "code",
   "execution_count": 73,
   "metadata": {},
   "outputs": [
    {
     "data": {
      "text/plain": [
       "True"
      ]
     },
     "execution_count": 73,
     "metadata": {},
     "output_type": "execute_result"
    }
   ],
   "source": [
    "### source: https://www.geeksforgeeks.org/line-detection-python-opencv-houghline-method/\n",
    "\n",
    "# This returns an array of r and theta values\n",
    "lines = cv.HoughLines(edges_painting, 1, np.pi/180, 150)\n",
    "\n",
    "\n",
    "# The below for loop runs till r and theta values\n",
    "# are in the range of the 2d array\n",
    "for r_theta in lines:\n",
    "    arr = np.array(r_theta[0], dtype=np.float32)\n",
    "    r, theta = arr\n",
    "    a = np.cos(theta)\n",
    "    b = np.sin(theta)\n",
    "  \n",
    "    x0 = a*r\n",
    "    y0 = b*r\n",
    "  \n",
    "    x1 = int(x0 + 1000*(-b))\n",
    "    y1 = int(y0 + 1000*(a))\n",
    "    x2 = int(x0 - 1000*(-b))\n",
    "    y2 = int(y0 - 1000*(a))\n",
    "    \n",
    "    cv.line(painting_copy, (x1, y1), (x2, y2), (0, 255, 255), 2)\n",
    "\n",
    "to_screen(\"houg_lines\", painting_copy)\n",
    "\n",
    "\n",
    "cv.imwrite('./resultaten_lab2/ass6.png', painting_copy)"
   ]
  },
  {
   "attachments": {},
   "cell_type": "markdown",
   "metadata": {},
   "source": [
    "### Assignment 7"
   ]
  },
  {
   "cell_type": "code",
   "execution_count": 65,
   "metadata": {},
   "outputs": [
    {
     "data": {
      "text/plain": [
       "True"
      ]
     },
     "execution_count": 65,
     "metadata": {},
     "output_type": "execute_result"
    }
   ],
   "source": [
    "shot1 = cv.imread(\"../afbeeldingen/shot1.png\")\n",
    "shot2 = cv.imread(\"../afbeeldingen/shot2.png\")\n",
    "\n",
    "shot1_harris = shot1.copy()\n",
    "shot2_harris = shot2.copy()\n",
    "# to_screen(\"shot2\", shot1)\n",
    "\n",
    "gray_shot1 = cv.cvtColor(shot1_harris, cv.COLOR_BGR2GRAY)\n",
    "gray_float1 = np.float32(gray_shot1)\n",
    "dst1 = cv.cornerHarris(gray_float1,2,3,0.04)\n",
    "\n",
    "gray_shot2 = cv.cvtColor(shot2_harris, cv.COLOR_BGR2GRAY)\n",
    "gray_float2 = np.float32(gray_shot2)\n",
    "dst2 = cv.cornerHarris(gray_float2,2,3,0.04)\n",
    "\n",
    "shot1_harris[dst1>0.01*dst1.max()]=[0,0,255]\n",
    "shot2_harris[dst2>0.01*dst2.max()]=[0,0,255]\n",
    "\n",
    "to_screen(\"harris_1\", shot1_harris)\n",
    "to_screen(\"harris_1\", shot2_harris)\n",
    "\n",
    "cv.imwrite('./resultaten_lab2/ass7_part1.png', shot1_harris)\n",
    "cv.imwrite('./resultaten_lab2/ass7_part2.png', shot2_harris)\n"
   ]
  },
  {
   "attachments": {},
   "cell_type": "markdown",
   "metadata": {},
   "source": [
    "### Assignment 4"
   ]
  },
  {
   "cell_type": "code",
   "execution_count": 67,
   "metadata": {},
   "outputs": [
    {
     "data": {
      "text/plain": [
       "True"
      ]
     },
     "execution_count": 67,
     "metadata": {},
     "output_type": "execute_result"
    }
   ],
   "source": [
    "shot1_orb = shot1.copy()\n",
    "shot2_orb = shot2.copy()\n",
    "\n",
    "orb = cv.ORB_create()\n",
    "kp1, des1 = orb.detectAndCompute(shot1,None)\n",
    "kp2, des2 = orb.detectAndCompute(shot2,None)\n",
    "\n",
    "\n",
    "# create BFMatcher object\n",
    "bf = cv.BFMatcher(cv.NORM_HAMMING, crossCheck=True)\n",
    "\n",
    "# Match descriptors.\n",
    "matches = bf.match(des1,des2)\n",
    "\n",
    "# Sort them in the order of their distance.\n",
    "matches = sorted(matches, key = lambda x:x.distance)\n",
    "\n",
    "# Draw first 32 matches.\n",
    "result = cv.drawMatches(shot1_orb,kp1,shot2_orb,kp2,matches[:32],\n",
    "                      None,flags=cv.DrawMatchesFlags_NOT_DRAW_SINGLE_POINTS)\n",
    "\n",
    "to_screen(\"orb\", result)\n",
    "cv.imwrite('./resultaten_lab2/ass8.png', result)\n",
    "\n",
    "\n",
    "## calib 8 beste tot nu toe "
   ]
  },
  {
   "cell_type": "code",
   "execution_count": null,
   "metadata": {},
   "outputs": [],
   "source": []
  }
 ],
 "metadata": {
  "kernelspec": {
   "display_name": "Python 3",
   "language": "python",
   "name": "python3"
  },
  "language_info": {
   "codemirror_mode": {
    "name": "ipython",
    "version": 3
   },
   "file_extension": ".py",
   "mimetype": "text/x-python",
   "name": "python",
   "nbconvert_exporter": "python",
   "pygments_lexer": "ipython3",
   "version": "3.10.6"
  },
  "orig_nbformat": 4,
  "vscode": {
   "interpreter": {
    "hash": "b15ee443de15a7c7a9e59449ab0d06bb25873493c1d52931efe00f2e6ab94104"
   }
  }
 },
 "nbformat": 4,
 "nbformat_minor": 2
}
