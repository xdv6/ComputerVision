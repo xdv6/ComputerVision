{
 "cells": [
  {
   "cell_type": "code",
   "execution_count": 1,
   "metadata": {},
   "outputs": [],
   "source": [
    "import cv2\n",
    "import numpy as np"
   ]
  },
  {
   "cell_type": "code",
   "execution_count": 2,
   "metadata": {},
   "outputs": [],
   "source": [
    "img = cv2.imread('clouds.png')\n",
    "\n",
    "# cv2.imshow('clouds',img)\n",
    "# waitKey() waits for a key press to close the window and 0 specifies indefinite loop\n",
    "# cv2.waitKey(0)\n",
    "# Destroys all the windows created\n",
    "# cv2.destroyAllwindows() "
   ]
  },
  {
   "attachments": {},
   "cell_type": "markdown",
   "metadata": {},
   "source": [
    "### question 1: dimension of image array"
   ]
  },
  {
   "cell_type": "code",
   "execution_count": 8,
   "metadata": {},
   "outputs": [
    {
     "data": {
      "text/plain": [
       "(600, 400, 3)"
      ]
     },
     "execution_count": 8,
     "metadata": {},
     "output_type": "execute_result"
    }
   ],
   "source": [
    "img.shape"
   ]
  },
  {
   "attachments": {},
   "cell_type": "markdown",
   "metadata": {},
   "source": [
    "### assignment 1: Crop the image so it becomes square by chopping of the bottom part."
   ]
  },
  {
   "cell_type": "code",
   "execution_count": 9,
   "metadata": {},
   "outputs": [
    {
     "data": {
      "text/plain": [
       "48"
      ]
     },
     "execution_count": 9,
     "metadata": {},
     "output_type": "execute_result"
    }
   ],
   "source": [
    "img_cropped = img[0:400,:,:]\n",
    "# Display cropped image\n",
    "# cv2.imshow(\"cropped\", img_cropped)  \n",
    "# cv2.waitKey(0)\n",
    "\n"
   ]
  },
  {
   "attachments": {},
   "cell_type": "markdown",
   "metadata": {},
   "source": [
    "### assignment 2: Discolor the image by reducing the intensity of the red value of every pixel by half."
   ]
  },
  {
   "cell_type": "code",
   "execution_count": null,
   "metadata": {},
   "outputs": [],
   "source": [
    "img_colored = img_cropped\n",
    "\n",
    "\n",
    "### BGR\n",
    "img_colored[:,:,2] //= 2\n",
    "# cv2.imshow(\"img_colored\", img_colored)  \n",
    "# cv2.waitKey(0)\n"
   ]
  },
  {
   "attachments": {},
   "cell_type": "markdown",
   "metadata": {},
   "source": [
    "### Assignment 3: Discolor the image by doubling the intensity of the red value of every pixel. You may have to handle an overow problem."
   ]
  },
  {
   "cell_type": "code",
   "execution_count": 5,
   "metadata": {},
   "outputs": [
    {
     "name": "stdout",
     "output_type": "stream",
     "text": [
      "[119  57  55]\n",
      "uint64\n",
      "[119  57 110]\n"
     ]
    }
   ],
   "source": [
    "img = cv2.imread('clouds.png')\n",
    "print(img[0,0])\n",
    "\n",
    "# casten want anders overflow en dan kan je niet meer clippen\n",
    "img = img.astype(\"uint64\")\n",
    "print(img.dtype)\n",
    "img[:,:,2] *= 2\n",
    "img = np.clip(img,0,255)\n",
    "img = img.astype(\"uint8\")\n",
    "\n",
    "cv2.imshow(\"img\", img)  \n",
    "cv2.waitKey(0)\n",
    "print(img[0,0])"
   ]
  },
  {
   "attachments": {},
   "cell_type": "markdown",
   "metadata": {},
   "source": [
    "### Assignment 4: Make a regular grid of black dots on the image so that the dots are 10 pixels apart vertically and horizontally, like in the image below"
   ]
  },
  {
   "cell_type": "code",
   "execution_count": 9,
   "metadata": {},
   "outputs": [
    {
     "data": {
      "text/plain": [
       "48"
      ]
     },
     "execution_count": 9,
     "metadata": {},
     "output_type": "execute_result"
    }
   ],
   "source": [
    "### gebruik .copy ipv opnieuw in te lezen, gewoon gelijkstellen past ook originele foto aan\n",
    "# geen np.copy want dat is shallow \n",
    "img = cv2.imread('clouds.png')\n",
    "\n",
    "# -9 voor onderste rij, \n",
    "img[9:-9:10,9:-9:10,:] = (0,0,0)\n",
    "cv2.imshow(\"img\", img)  \n",
    "cv2.waitKey(0)"
   ]
  },
  {
   "attachments": {},
   "cell_type": "markdown",
   "metadata": {},
   "source": [
    "### 3 Thresholding\n",
    "Thresholding is a method to segment grayscale images. It can be used to find objects of interest in images.\n",
    "Pixel intensity values are compared to a threshold value and classified according to whether they are higher\n",
    "or lower than this value. Finding the correct threshold value is often not trivial."
   ]
  },
  {
   "attachments": {},
   "cell_type": "markdown",
   "metadata": {},
   "source": [
    "### assignment 5 convert the image to grayscale"
   ]
  },
  {
   "cell_type": "code",
   "execution_count": 3,
   "metadata": {},
   "outputs": [
    {
     "data": {
      "text/plain": [
       "48"
      ]
     },
     "execution_count": 3,
     "metadata": {},
     "output_type": "execute_result"
    }
   ],
   "source": [
    "gray = img.copy()\n",
    "gray = cv2.cvtColor(img, cv2.COLOR_BGR2GRAY)\n",
    "cv2.imshow(\"gray\", gray)  \n",
    "cv2.waitKey(0)"
   ]
  },
  {
   "attachments": {},
   "cell_type": "markdown",
   "metadata": {},
   "source": [
    "### Assignment 6 Threshold the grayscale image at 50% of the maximum value for this datatype."
   ]
  },
  {
   "cell_type": "code",
   "execution_count": 4,
   "metadata": {},
   "outputs": [
    {
     "data": {
      "text/plain": [
       "48"
      ]
     },
     "execution_count": 4,
     "metadata": {},
     "output_type": "execute_result"
    }
   ],
   "source": [
    "threshold_img = gray.copy()\n",
    "# thresh1 is thresholdfoto, ret geeft gebruikte threshold weer \n",
    "ret,thresh1 = cv2.threshold(threshold_img,127,255,cv2.THRESH_BINARY)\n",
    "cv2.imshow(\"thresh1\", thresh1)  \n",
    "cv2.waitKey(0)"
   ]
  },
  {
   "attachments": {},
   "cell_type": "markdown",
   "metadata": {},
   "source": [
    "### Assignment 7 Threshold the grayscale image at the ideal threshold determined by Otsu's method."
   ]
  },
  {
   "cell_type": "code",
   "execution_count": 6,
   "metadata": {},
   "outputs": [
    {
     "data": {
      "text/plain": [
       "48"
      ]
     },
     "execution_count": 6,
     "metadata": {},
     "output_type": "execute_result"
    }
   ],
   "source": [
    "# Otsu's thresholding\n",
    "threshold_img_otsu = gray.copy()\n",
    "ret2,th2 = cv2.threshold(threshold_img_otsu,0,255,cv2.THRESH_BINARY+cv2.THRESH_OTSU)\n",
    "cv2.imshow(\"thresh2\", th2)  \n",
    "cv2.waitKey(0)"
   ]
  },
  {
   "attachments": {},
   "cell_type": "markdown",
   "metadata": {},
   "source": [
    "## Excercise 3"
   ]
  },
  {
   "attachments": {},
   "cell_type": "markdown",
   "metadata": {},
   "source": [
    "### Assignment 8 Adaptively threshold the grayscale version of painting2.png so you get a similar result to the one below, where the background is uniformly white and you can cut out the painting along black lines."
   ]
  },
  {
   "cell_type": "code",
   "execution_count": 21,
   "metadata": {},
   "outputs": [
    {
     "data": {
      "text/plain": [
       "48"
      ]
     },
     "execution_count": 21,
     "metadata": {},
     "output_type": "execute_result"
    }
   ],
   "source": [
    "painting = cv2.imread(\"painting2.jpg\")\n",
    "painting_gray = cv2.cvtColor(painting, cv2.COLOR_BGR2GRAY)\n",
    "# als blokgrootte kleiner is, fijner\n",
    "# gaussian minder stippen\n",
    "th3 = cv2.adaptiveThreshold(painting_gray,255,cv2.ADAPTIVE_THRESH_GAUSSIAN_C, cv2.THRESH_BINARY,11,12)\n",
    "cv2.imshow(\"thresh2\", th3)  \n",
    "cv2.waitKey(0)"
   ]
  },
  {
   "attachments": {},
   "cell_type": "markdown",
   "metadata": {},
   "source": [
    "## Exercise 4"
   ]
  },
  {
   "attachments": {},
   "cell_type": "markdown",
   "metadata": {},
   "source": [
    "### Assignment 9 Remove the white noise from whitenoise.png by Gaussian filtering."
   ]
  },
  {
   "cell_type": "code",
   "execution_count": 22,
   "metadata": {},
   "outputs": [
    {
     "data": {
      "text/plain": [
       "48"
      ]
     },
     "execution_count": 22,
     "metadata": {},
     "output_type": "execute_result"
    }
   ],
   "source": [
    "whitenoise = cv2.imread(\"whitenoise.png\")\n",
    "blur = cv2.GaussianBlur(whitenoise,(5,5),0)\n",
    "cv2.imshow(\"blur\", blur)  \n",
    "cv2.waitKey(0)"
   ]
  },
  {
   "attachments": {},
   "cell_type": "markdown",
   "metadata": {},
   "source": [
    "### Question 2 What is the effect on the sharpness of the image?\n",
    "Answer: The picture is more blurry then the original. The sharpness decreases."
   ]
  },
  {
   "attachments": {},
   "cell_type": "markdown",
   "metadata": {},
   "source": [
    "## Excercise 5"
   ]
  },
  {
   "attachments": {},
   "cell_type": "markdown",
   "metadata": {},
   "source": [
    "### Assignment 10 Test the Gaussian filter on saltandpeppernoise.png."
   ]
  },
  {
   "cell_type": "code",
   "execution_count": 24,
   "metadata": {},
   "outputs": [
    {
     "data": {
      "text/plain": [
       "48"
      ]
     },
     "execution_count": 24,
     "metadata": {},
     "output_type": "execute_result"
    }
   ],
   "source": [
    "salt_and_peper = cv2.imread(\"saltandpeppernoise.png\")\n",
    "gaussian_salt = cv2.GaussianBlur(salt_and_peper,(5,5),0)\n",
    "cv2.imshow(\"gaussian\", gaussian_salt)  \n",
    "cv2.waitKey(0)"
   ]
  },
  {
   "attachments": {},
   "cell_type": "markdown",
   "metadata": {},
   "source": [
    "### Assignment 11 Apply median filtering on the same image."
   ]
  },
  {
   "cell_type": "code",
   "execution_count": 27,
   "metadata": {},
   "outputs": [
    {
     "data": {
      "text/plain": [
       "48"
      ]
     },
     "execution_count": 27,
     "metadata": {},
     "output_type": "execute_result"
    }
   ],
   "source": [
    "salt_and_peper_median = cv2.imread(\"saltandpeppernoise.png\")\n",
    "median_salt = cv2.medianBlur(salt_and_peper_median,5)\n",
    "cv2.imshow(\"median\", median_salt)  \n",
    "cv2.waitKey(0)"
   ]
  },
  {
   "attachments": {},
   "cell_type": "markdown",
   "metadata": {},
   "source": [
    "### Question 3 Which result is preferable and why?\n",
    "Answer: Median filtering is preferable. Gaussian filter is a linear type of filter which is based on Gaussian function. But the median filter is a non-linear type of filter. \n",
    "\n",
    "It preserves edge while removing noise. By taking the median of all the pixels under the kernel area and replacing the central element with this median value, edges are being preserved. This is highly effective against salt-and-pepper noise in an image."
   ]
  },
  {
   "attachments": {},
   "cell_type": "markdown",
   "metadata": {},
   "source": [
    "## Exercise 6 "
   ]
  },
  {
   "attachments": {},
   "cell_type": "markdown",
   "metadata": {},
   "source": [
    "### Assignment 11 Implement unsharp masking to sharpen unsharp.png. Make sure you do not get overflow in your datatype! Your goal is to achieve something similar to the image below."
   ]
  },
  {
   "cell_type": "code",
   "execution_count": 2,
   "metadata": {},
   "outputs": [
    {
     "name": "stdout",
     "output_type": "stream",
     "text": [
      "[[[-1.  0.  0.]\n",
      "  [-1.  1.  0.]\n",
      "  [ 0.  0.  0.]\n",
      "  ...\n",
      "  [ 0.  0.  0.]\n",
      "  [ 0.  0.  0.]\n",
      "  [ 0.  0.  0.]]\n",
      "\n",
      " [[ 0.  0.  0.]\n",
      "  [ 0.  0.  0.]\n",
      "  [ 0.  0.  0.]\n",
      "  ...\n",
      "  [ 0.  0.  0.]\n",
      "  [ 0.  0.  0.]\n",
      "  [ 0.  0.  0.]]\n",
      "\n",
      " [[-1.  0.  0.]\n",
      "  [ 0. -1.  0.]\n",
      "  [ 0.  0.  0.]\n",
      "  ...\n",
      "  [ 0.  0.  0.]\n",
      "  [ 0.  0.  0.]\n",
      "  [ 0.  0.  0.]]\n",
      "\n",
      " ...\n",
      "\n",
      " [[ 0.  0.  0.]\n",
      "  [ 0.  0.  0.]\n",
      "  [ 0.  0.  0.]\n",
      "  ...\n",
      "  [ 0.  0.  0.]\n",
      "  [ 0.  0.  0.]\n",
      "  [ 0.  0.  0.]]\n",
      "\n",
      " [[ 0.  0.  0.]\n",
      "  [ 0.  0.  0.]\n",
      "  [ 0.  0.  0.]\n",
      "  ...\n",
      "  [ 0.  0.  0.]\n",
      "  [ 0.  0.  0.]\n",
      "  [ 0.  0.  0.]]\n",
      "\n",
      " [[ 0.  0.  0.]\n",
      "  [ 0.  0.  0.]\n",
      "  [ 0.  0.  0.]\n",
      "  ...\n",
      "  [ 0.  0.  0.]\n",
      "  [ 0.  0.  0.]\n",
      "  [ 0.  0.  0.]]]\n"
     ]
    },
    {
     "data": {
      "text/plain": [
       "48"
      ]
     },
     "execution_count": 2,
     "metadata": {},
     "output_type": "execute_result"
    }
   ],
   "source": [
    "unsharp = cv2.imread(\"unsharp.png\")\n",
    "\n",
    "blurred = unsharp.copy()\n",
    "\n",
    "blurred = cv2.GaussianBlur(blurred,(5,5),0)\n",
    "blurred = blurred.astype(\"float32\")\n",
    "unsharp_float32 = unsharp.astype(\"float32\")\n",
    "\n",
    "\n",
    "difference = unsharp_float32 - blurred\n",
    "\n",
    "print(difference)\n",
    "# Here you have to also define the weightage for each image that is alpha and beta. In this example, I am setting \n",
    "# the alpha value to 0.3 and the beta value to 0.7. The constant y is 0. Add the following line of code to continue.\n",
    "\n",
    "\n",
    "result = cv2.addWeighted(unsharp_float32,1,difference,10,0)\n",
    "clipped = np.clip(result,0,255)\n",
    "clipped_uint8 = clipped.astype(\"uint8\")\n",
    "\n",
    "cv2.imshow(\"unsharp\", unsharp)  \n",
    "cv2.waitKey(0)\n",
    "\n",
    "\n",
    "cv2.imshow(\"endresult\", clipped_uint8)  \n",
    "cv2.waitKey(0)"
   ]
  },
  {
   "attachments": {},
   "cell_type": "markdown",
   "metadata": {},
   "source": [
    "## exercise 7"
   ]
  },
  {
   "attachments": {},
   "cell_type": "markdown",
   "metadata": {},
   "source": [
    "### Assignment 12 Write a program that blurs blots.png diagonally with the kernel below (mind the multiplication factor in front)."
   ]
  },
  {
   "cell_type": "code",
   "execution_count": 20,
   "metadata": {},
   "outputs": [
    {
     "data": {
      "text/plain": [
       "0"
      ]
     },
     "execution_count": 20,
     "metadata": {},
     "output_type": "execute_result"
    }
   ],
   "source": [
    "blots = cv2.imread(\"blots.png\")\n",
    "\n",
    "kernel = np.zeros((15,15))\n",
    "identity = np.identity(7)\n",
    "padded = np.pad(identity, [(0, 8), (0, 8)], mode='constant', constant_values=0)\n",
    "kernel = np.add(kernel, padded)\n",
    "\n",
    "kernel *= 1/7\n",
    "\n",
    "\n",
    "# Applying the filter2D() function\n",
    "filter2D = cv2.filter2D(src=blots, ddepth=-1, kernel=kernel)\n",
    "cv2.imshow(\"filter2D\", filter2D)  \n",
    "cv2.waitKey(0)\n",
    "\n",
    "\n",
    "# coordinaat is 8,8"
   ]
  }
 ],
 "metadata": {
  "kernelspec": {
   "display_name": "Python 3",
   "language": "python",
   "name": "python3"
  },
  "language_info": {
   "codemirror_mode": {
    "name": "ipython",
    "version": 3
   },
   "file_extension": ".py",
   "mimetype": "text/x-python",
   "name": "python",
   "nbconvert_exporter": "python",
   "pygments_lexer": "ipython3",
   "version": "3.10.6"
  },
  "orig_nbformat": 4,
  "vscode": {
   "interpreter": {
    "hash": "b15ee443de15a7c7a9e59449ab0d06bb25873493c1d52931efe00f2e6ab94104"
   }
  }
 },
 "nbformat": 4,
 "nbformat_minor": 2
}
